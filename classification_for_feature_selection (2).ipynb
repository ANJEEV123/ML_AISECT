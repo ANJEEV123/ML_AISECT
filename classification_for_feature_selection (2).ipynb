{
  "nbformat": 4,
  "nbformat_minor": 0,
  "metadata": {
    "colab": {
      "provenance": []
    },
    "kernelspec": {
      "name": "python3",
      "display_name": "Python 3"
    },
    "language_info": {
      "name": "python"
    }
  },
  "cells": [
    {
      "cell_type": "code",
      "execution_count": null,
      "metadata": {
        "id": "resKc5UtUCU_"
      },
      "outputs": [],
      "source": [
        "# 1. Imports\n",
        "# ==============================================\n",
        "import pandas as pd\n",
        "import numpy as np\n",
        "from sklearn.model_selection import train_test_split, GridSearchCV\n",
        "from sklearn.preprocessing import StandardScaler\n",
        "from sklearn.feature_selection import SelectKBest, f_classif,RFE\n",
        "from sklearn.linear_model import LogisticRegression\n",
        "from sklearn.neighbors import KNeighborsClassifier\n",
        "from sklearn.ensemble import RandomForestClassifier\n",
        "from sklearn.metrics import accuracy_score, precision_score, recall_score, f1_score, confusion_matrix\n",
        "import pickle"
      ]
    },
    {
      "cell_type": "code",
      "source": [
        "# 2. Load Dataset\n",
        "# ==============================================\n",
        "dataset = pd.read_csv(\"/content/flight_prediction.csv\")"
      ],
      "metadata": {
        "id": "FFfVEQthUpZC"
      },
      "execution_count": null,
      "outputs": []
    },
    {
      "cell_type": "code",
      "source": [
        "x = dataset[['duration', 'days_left', 'airline', 'source_city',\n",
        "             'departure_time', 'stops', 'arrival_time',\n",
        "             'destination_city', 'class']]\n",
        "y = dataset['price']"
      ],
      "metadata": {
        "id": "84lwiHDNU3gy"
      },
      "execution_count": null,
      "outputs": []
    },
    {
      "cell_type": "code",
      "source": [
        "# 3. Convert Target to Classes\n",
        "# ==============================================\n",
        "y_class = pd.qcut(y, q=3, labels=[\"Low\", \"Medium\", \"High\"])"
      ],
      "metadata": {
        "id": "Ny46NEg6U7wd"
      },
      "execution_count": null,
      "outputs": []
    },
    {
      "cell_type": "code",
      "source": [
        "# 4. Encode Categorical Variables\n",
        "# ==============================================\n",
        "x_encoded = pd.get_dummies(x, drop_first=True)"
      ],
      "metadata": {
        "id": "EgdgNwnDU7tV"
      },
      "execution_count": null,
      "outputs": []
    },
    {
      "cell_type": "code",
      "source": [
        "# 5. Feature Scaling\n",
        "# ==============================================\n",
        "scaler = StandardScaler()\n",
        "x_scaled = scaler.fit_transform(x_encoded)\n"
      ],
      "metadata": {
        "id": "KIyOD45eU7rc"
      },
      "execution_count": null,
      "outputs": []
    },
    {
      "cell_type": "code",
      "source": [
        "# 6. Train-Test Split\n",
        "# ==============================================\n",
        "x_train, x_test, y_train, y_test = train_test_split(\n",
        "    x_scaled, y_class, test_size=0.3, random_state=0\n",
        ")"
      ],
      "metadata": {
        "id": "D9izVRasU7pQ"
      },
      "execution_count": null,
      "outputs": []
    },
    {
      "cell_type": "code",
      "source": [
        "# 7a. Feature Selection using SelectKBest\n",
        "# ==============================================\n",
        "selector_kbest = SelectKBest(score_func=f_classif, k=10)\n",
        "x_train_kbest = selector_kbest.fit_transform(x_train, y_train)\n",
        "x_test_kbest = selector_kbest.transform(x_test)\n",
        "selected_features_kbest = x_encoded.columns[selector_kbest.get_support()]\n",
        "print(\"\\nSelected Features using SelectKBest:\", list(selected_features_kbest))"
      ],
      "metadata": {
        "colab": {
          "base_uri": "https://localhost:8080/"
        },
        "id": "QYKrEUxcU7m0",
        "outputId": "ccb4a842-9443-4198-f567-b108096753c2"
      },
      "execution_count": null,
      "outputs": [
        {
          "output_type": "stream",
          "name": "stdout",
          "text": [
            "\n",
            "Selected Features using SelectKBest: ['duration', 'days_left', 'airline_Air_India', 'airline_GO_FIRST', 'airline_Indigo', 'airline_SpiceJet', 'airline_Vistara', 'stops_two_or_more', 'stops_zero', 'class_Economy']\n"
          ]
        }
      ]
    },
    {
      "cell_type": "code",
      "source": [
        "# 7b. Feature Selection using RFE\n",
        "# ==============================================\n",
        "rfe_selector = RFE(estimator=LogisticRegression(max_iter=100), n_features_to_select=10)\n",
        "x_train_rfe = rfe_selector.fit_transform(x_train, y_train)\n",
        "x_test_rfe = rfe_selector.transform(x_test)\n",
        "selected_features_rfe = x_encoded.columns[rfe_selector.get_support()]\n",
        "print(\"\\nSelected Features using RFE:\", list(selected_features_rfe))"
      ],
      "metadata": {
        "colab": {
          "base_uri": "https://localhost:8080/"
        },
        "id": "FGkxdIlpU7h6",
        "outputId": "a9c9acef-3ca6-41e4-f82a-653a2a98d600"
      },
      "execution_count": null,
      "outputs": [
        {
          "output_type": "stream",
          "name": "stdout",
          "text": [
            "\n",
            "Selected Features using RFE: ['days_left', 'airline_Air_India', 'airline_GO_FIRST', 'airline_Indigo', 'airline_Vistara', 'source_city_Kolkata', 'stops_two_or_more', 'stops_zero', 'destination_city_Kolkata', 'class_Economy']\n"
          ]
        }
      ]
    },
    {
      "cell_type": "code",
      "source": [
        "# 8a. Logistic Regression (SelectKBest)\n",
        "# ==============================================\n",
        "log_reg_kbest = LogisticRegression(max_iter=500)\n",
        "log_reg_kbest.fit(x_train_kbest, y_train)\n",
        "y_pred_log_kbest = log_reg_kbest.predict(x_test_kbest)\n",
        "\n",
        "print(\"\\n Logistic Regression (SelectKBest) Results\")\n",
        "print(\"Accuracy:\", accuracy_score(y_test, y_pred_log_kbest))\n",
        "print(\"Precision:\", precision_score(y_test, y_pred_log_kbest, average='macro'))\n",
        "print(\"Recall:\", recall_score(y_test, y_pred_log_kbest, average='macro'))\n",
        "print(\"F1 Score:\", f1_score(y_test, y_pred_log_kbest, average='macro'))\n",
        "print(\"Confusion Matrix:\\n\", confusion_matrix(y_test, y_pred_log_kbest))"
      ],
      "metadata": {
        "colab": {
          "base_uri": "https://localhost:8080/"
        },
        "id": "xGiLM4jMU7fI",
        "outputId": "ae95bf7c-0afd-43b5-85b5-28b164d266c0"
      },
      "execution_count": null,
      "outputs": [
        {
          "output_type": "stream",
          "name": "stdout",
          "text": [
            "\n",
            " Logistic Regression (SelectKBest) Results\n",
            "Accuracy: 0.7867756480021323\n",
            "Precision: 0.7933603628300103\n",
            "Recall: 0.7867931409826432\n",
            "F1 Score: 0.7895568859001875\n",
            "Confusion Matrix:\n",
            " [[28142    88  1778]\n",
            " [    0 21466  8701]\n",
            " [   53  8580 21238]]\n"
          ]
        }
      ]
    },
    {
      "cell_type": "code",
      "source": [
        "# 8b. Logistic Regression (RFE)\n",
        "# ==============================================\n",
        "log_reg_rfe = LogisticRegression(max_iter=500)\n",
        "log_reg_rfe.fit(x_train_rfe, y_train)\n",
        "y_pred_log_rfe = log_reg_rfe.predict(x_test_rfe)\n",
        "\n",
        "print(\"\\n Logistic Regression (RFE) Results\")\n",
        "print(\"Accuracy:\", accuracy_score(y_test, y_pred_log_rfe))\n",
        "print(\"Precision:\", precision_score(y_test, y_pred_log_rfe, average='macro'))\n",
        "print(\"Recall:\", recall_score(y_test, y_pred_log_rfe, average='macro'))\n",
        "print(\"F1 Score:\", f1_score(y_test, y_pred_log_rfe, average='macro'))\n",
        "print(\"Confusion Matrix:\\n\", confusion_matrix(y_test, y_pred_log_rfe))"
      ],
      "metadata": {
        "colab": {
          "base_uri": "https://localhost:8080/"
        },
        "id": "oLlCLrHzU7cc",
        "outputId": "047873e4-ca66-4e2e-98ed-28dac66a2508"
      },
      "execution_count": null,
      "outputs": [
        {
          "output_type": "stream",
          "name": "stdout",
          "text": [
            "\n",
            " Logistic Regression (RFE) Results\n",
            "Accuracy: 0.8041556537769584\n",
            "Precision: 0.8103418483972513\n",
            "Recall: 0.8041852386810359\n",
            "F1 Score: 0.8066749434970818\n",
            "Confusion Matrix:\n",
            " [[28141    88  1779]\n",
            " [    1 22123  8043]\n",
            " [   69  7655 22147]]\n"
          ]
        }
      ]
    },
    {
      "cell_type": "code",
      "source": [
        "# 9. KNN Classifier (using RFE)\n",
        "# ==============================================\n",
        "knn_params = {'n_neighbors': [3 ]}\n",
        "knn_rfe = GridSearchCV(KNeighborsClassifier(), knn_params,\n",
        "                       cv=2, scoring='accuracy', n_jobs=-1, verbose=1)\n",
        "knn_rfe.fit(x_train_rfe, y_train)\n",
        "y_pred_knn_rfe = knn_rfe.predict(x_test_rfe)\n",
        "\n",
        "print(\"\\nKNN (RFE) Results\")\n",
        "print(\"Best Params:\", knn_rfe.best_params_)\n",
        "print(\"Accuracy:\", accuracy_score(y_test, y_pred_knn_rfe))\n",
        "print(\"F1 Score:\", f1_score(y_test, y_pred_knn_rfe, average='macro'))\n",
        "print(\"Confusion Matrix:\\n\", confusion_matrix(y_test, y_pred_knn_rfe))"
      ],
      "metadata": {
        "colab": {
          "base_uri": "https://localhost:8080/"
        },
        "id": "iJYnW6wUV4g8",
        "outputId": "be583ae3-3558-40b0-a2a6-c67213496bf0"
      },
      "execution_count": null,
      "outputs": [
        {
          "output_type": "stream",
          "name": "stdout",
          "text": [
            "Fitting 2 folds for each of 1 candidates, totalling 2 fits\n",
            "\n",
            "KNN (RFE) Results\n",
            "Best Params: {'n_neighbors': 3}\n",
            "Accuracy: 0.8139728583168603\n",
            "F1 Score: 0.8147423214984434\n",
            "Confusion Matrix:\n",
            " [[28570   110  1328]\n",
            " [   73 22934  7160]\n",
            " [  723  7357 21791]]\n"
          ]
        }
      ]
    },
    {
      "cell_type": "code",
      "source": [
        "# 10. Random Forest Classifier (RFE)\n",
        "# ==============================================\n",
        "rf_params = {'n_estimators': [100], 'max_depth': [None, 10]}\n",
        "rf_rfe = GridSearchCV(RandomForestClassifier(random_state=0),\n",
        "                      rf_params, cv=2, scoring='accuracy',\n",
        "                      n_jobs=-1, verbose=1)\n",
        "rf_rfe.fit(x_train_rfe, y_train)\n",
        "y_pred_rf_rfe = rf_rfe.predict(x_test_rfe)\n",
        "\n",
        "print(\"\\n Random Forest (RFE) Results\")\n",
        "print(\"Best Params:\", rf_rfe.best_params_)\n",
        "print(\"Accuracy:\", accuracy_score(y_test, y_pred_rf_rfe))\n",
        "print(\"F1 Score:\", f1_score(y_test, y_pred_rf_rfe, average='macro'))\n",
        "print(\"Confusion Matrix:\\n\", confusion_matrix(y_test, y_pred_rf_rfe))"
      ],
      "metadata": {
        "colab": {
          "base_uri": "https://localhost:8080/"
        },
        "id": "B8hs_RAPU7Z9",
        "outputId": "d6e4fe9e-a051-489a-a56d-fa9bedce6bc9"
      },
      "execution_count": null,
      "outputs": [
        {
          "output_type": "stream",
          "name": "stdout",
          "text": [
            "Fitting 2 folds for each of 2 candidates, totalling 4 fits\n",
            "\n",
            " Random Forest (RFE) Results\n",
            "Best Params: {'max_depth': 10, 'n_estimators': 100}\n",
            "Accuracy: 0.8432356795415676\n",
            "F1 Score: 0.8422633192244513\n",
            "Confusion Matrix:\n",
            " [[28348    82  1578]\n",
            " [    0 27379  2788]\n",
            " [  148  9520 20203]]\n"
          ]
        }
      ]
    },
    {
      "cell_type": "code",
      "source": [
        "# Random Forest Classifier (SelectKBest)\n",
        "# ==============================================\n",
        "rf_params = {'n_estimators': [100], 'max_depth': [None, 10]}\n",
        "rf_kbest = GridSearchCV(RandomForestClassifier(random_state=0),\n",
        "                        rf_params, cv=2, scoring='accuracy',\n",
        "                        n_jobs=-1, verbose=1)\n",
        "rf_kbest.fit(x_train_kbest, y_train)\n",
        "y_pred_rf_kbest = rf_kbest.predict(x_test_kbest)\n",
        "\n",
        "print(\"\\n Random Forest (SelectKBest) Results\")\n",
        "print(\"Best Params:\", rf_kbest.best_params_)\n",
        "print(\"Accuracy:\", accuracy_score(y_test, y_pred_rf_kbest))\n",
        "print(\"F1 Score:\", f1_score(y_test, y_pred_rf_kbest, average='macro'))\n",
        "print(\"Confusion Matrix:\\n\", confusion_matrix(y_test, y_pred_rf_kbest))"
      ],
      "metadata": {
        "colab": {
          "base_uri": "https://localhost:8080/"
        },
        "id": "FiZOwo10WXkB",
        "outputId": "329b55fb-0f6f-4629-abc8-39547497ef57"
      },
      "execution_count": null,
      "outputs": [
        {
          "output_type": "stream",
          "name": "stdout",
          "text": [
            "Fitting 2 folds for each of 2 candidates, totalling 4 fits\n",
            "\n",
            " Random Forest (SelectKBest) Results\n",
            "Best Params: {'max_depth': 10, 'n_estimators': 100}\n",
            "Accuracy: 0.8300757390666993\n",
            "F1 Score: 0.8316743844630737\n",
            "Confusion Matrix:\n",
            " [[28381    81  1546]\n",
            " [    0 23845  6322]\n",
            " [  171  7181 22519]]\n"
          ]
        }
      ]
    },
    {
      "cell_type": "code",
      "source": [
        "# Save the Best SelectKBest Random Forest Model\n",
        "# ==============================================\n",
        "best_model_kbest = rf_kbest.best_estimator_\n",
        "with open(\"Finalized_FlightPrice_RF_SelectKBest_Classifier.pkl\", \"wb\") as f:\n",
        "    pickle.dump(best_model_kbest, f)\n",
        "\n",
        "print(\"\\nFinal Random Forest (SelectKBest) Classifier saved as Finalized_FlightPrice_RF_SelectKBest_Classifier.pkl\")"
      ],
      "metadata": {
        "colab": {
          "base_uri": "https://localhost:8080/"
        },
        "id": "23KQwb-pWm0e",
        "outputId": "411f9744-61b7-40c2-b0e2-c42491b1f2bc"
      },
      "execution_count": null,
      "outputs": [
        {
          "output_type": "stream",
          "name": "stdout",
          "text": [
            "\n",
            "Final Random Forest (SelectKBest) Classifier saved as Finalized_FlightPrice_RF_SelectKBest_Classifier.pkl\n"
          ]
        }
      ]
    },
    {
      "cell_type": "code",
      "source": [
        "#KNN (SelectKBest)\n",
        "# GridSearch parameters\n",
        "knn_params = {'n_neighbors': [3 ]}\n",
        "# Train KNN using SelectKBest features\n",
        "knn_kbest = GridSearchCV(KNeighborsClassifier(),\n",
        "                         knn_params,\n",
        "                         cv=2,\n",
        "                         scoring='accuracy',\n",
        "                         n_jobs=-1,\n",
        "                         verbose=1)\n",
        "knn_kbest.fit(x_train_kbest, y_train)\n",
        "# Predictions\n",
        "y_pred_knn_kbest = knn_kbest.predict(x_test_kbest)\n",
        "# Results\n",
        "print(\"\\n KNN Classifier (SelectKBest) Results\")\n",
        "print(\"Best Params:\", knn_kbest.best_params_)\n",
        "print(\"Accuracy:\", accuracy_score(y_test, y_pred_knn_kbest))\n",
        "print(\"F1 Score:\", f1_score(y_test, y_pred_knn_kbest, average='macro'))\n",
        "print(\"Confusion Matrix:\\n\", confusion_matrix(y_test, y_pred_knn_kbest))"
      ],
      "metadata": {
        "colab": {
          "base_uri": "https://localhost:8080/"
        },
        "id": "PoXgS7taXGfp",
        "outputId": "26fd102b-c70a-4923-c495-bfcd402511c9"
      },
      "execution_count": null,
      "outputs": [
        {
          "output_type": "stream",
          "name": "stdout",
          "text": [
            "Fitting 2 folds for each of 1 candidates, totalling 2 fits\n",
            "\n",
            " KNN Classifier (SelectKBest) Results\n",
            "Best Params: {'n_neighbors': 3}\n",
            "Accuracy: 0.796703906892033\n",
            "F1 Score: 0.7974526274261883\n",
            "Confusion Matrix:\n",
            " [[28573    82  1353]\n",
            " [   80 21988  8099]\n",
            " [  845  7847 21179]]\n"
          ]
        }
      ]
    },
    {
      "cell_type": "code",
      "source": [
        "# Save KNN model\n",
        "import pickle\n",
        "best_knn_kbest = knn_kbest.best_estimator_\n",
        "with open(\"Finalized_FlightPrice_KNN_SelectKBest_Classifier.pkl\", \"wb\") as f:pickle.dump(best_knn_kbest, f)\n",
        "print(\"\\n KNN (SelectKBest) Classifier saved as Finalized_FlightPrice_KNN_SelectKBest_Classifier.pkl\")"
      ],
      "metadata": {
        "colab": {
          "base_uri": "https://localhost:8080/"
        },
        "id": "u1XRXaclXfZq",
        "outputId": "7347bde3-e982-42ee-83ca-ede48696d95c"
      },
      "execution_count": null,
      "outputs": [
        {
          "output_type": "stream",
          "name": "stdout",
          "text": [
            "\n",
            " KNN (SelectKBest) Classifier saved as Finalized_FlightPrice_KNN_SelectKBest_Classifier.pkl\n"
          ]
        }
      ]
    },
    {
      "cell_type": "code",
      "source": [
        "# SVM Classifier\n",
        "# ==============================================\n",
        "from sklearn.svm import SVC\n",
        "from sklearn.model_selection import GridSearchCV\n",
        "from sklearn.metrics import accuracy_score, f1_score, confusion_matrix"
      ],
      "metadata": {
        "id": "q7omQqsMVgIV"
      },
      "execution_count": null,
      "outputs": []
    },
    {
      "cell_type": "code",
      "source": [
        "# GridSearch parameters for SVM\n",
        "svm_params = {\n",
        "    'C': [0.1, 1, 10],\n",
        "    'kernel': ['linear', 'rbf', 'poly'],\n",
        "    'gamma': ['scale', 'auto']\n",
        "}"
      ],
      "metadata": {
        "id": "sumBJcF_VgE0"
      },
      "execution_count": null,
      "outputs": []
    },
    {
      "cell_type": "code",
      "source": [
        "# 1. SVM with SelectKBest Features\n",
        "# ==============================================\n",
        "# GridSearch parameters for SVM\n",
        "svm_params = {\n",
        "    'C': [0.1, 1],\n",
        "    'kernel': ['linear'],\n",
        "    'gamma': ['scale']}\n",
        "# NOTE: Make sure to run the cell defining x_train_kbest and y_train first (cell QYKrEUxcU7m0)\n",
        "svm_kbest = GridSearchCV(SVC(),svm_params,cv=2,scoring='accuracy',n_jobs=-1,verbose=1)\n",
        "svm_kbest.fit(x_train_kbest, y_train)\n",
        "y_pred_svm_kbest = svm_kbest.predict(x_test_kbest)\n",
        "\n",
        "print(\"\\n SVM Classifier (SelectKBest) Results\")\n",
        "print(\"Best Params:\", svm_kbest.best_params_)\n",
        "print(\"Accuracy:\", accuracy_score(y_test, y_pred_svm_kbest))\n",
        "print(\"F1 Score:\", f1_score(y_test, y_pred_svm_kbest, average='macro'))\n",
        "print(\"Confusion Matrix:\\n\", confusion_matrix(y_test, y_pred_svm_kbest))"
      ],
      "metadata": {
        "colab": {
          "base_uri": "https://localhost:8080/",
          "height": 211
        },
        "id": "BROChLysVgBs",
        "outputId": "ef42ed20-eafa-4813-daa0-12ca805aac1c"
      },
      "execution_count": null,
      "outputs": [
        {
          "output_type": "error",
          "ename": "NameError",
          "evalue": "name 'x_train_kbest' is not defined",
          "traceback": [
            "\u001b[0;31m---------------------------------------------------------------------------\u001b[0m",
            "\u001b[0;31mNameError\u001b[0m                                 Traceback (most recent call last)",
            "\u001b[0;32m/tmp/ipython-input-3011877701.py\u001b[0m in \u001b[0;36m<cell line: 0>\u001b[0;34m()\u001b[0m\n\u001b[1;32m      8\u001b[0m \u001b[0;31m# NOTE: Make sure to run the cell defining x_train_kbest and y_train first (cell QYKrEUxcU7m0)\u001b[0m\u001b[0;34m\u001b[0m\u001b[0;34m\u001b[0m\u001b[0m\n\u001b[1;32m      9\u001b[0m \u001b[0msvm_kbest\u001b[0m \u001b[0;34m=\u001b[0m \u001b[0mGridSearchCV\u001b[0m\u001b[0;34m(\u001b[0m\u001b[0mSVC\u001b[0m\u001b[0;34m(\u001b[0m\u001b[0;34m)\u001b[0m\u001b[0;34m,\u001b[0m\u001b[0msvm_params\u001b[0m\u001b[0;34m,\u001b[0m\u001b[0mcv\u001b[0m\u001b[0;34m=\u001b[0m\u001b[0;36m2\u001b[0m\u001b[0;34m,\u001b[0m\u001b[0mscoring\u001b[0m\u001b[0;34m=\u001b[0m\u001b[0;34m'accuracy'\u001b[0m\u001b[0;34m,\u001b[0m\u001b[0mn_jobs\u001b[0m\u001b[0;34m=\u001b[0m\u001b[0;34m-\u001b[0m\u001b[0;36m1\u001b[0m\u001b[0;34m,\u001b[0m\u001b[0mverbose\u001b[0m\u001b[0;34m=\u001b[0m\u001b[0;36m1\u001b[0m\u001b[0;34m)\u001b[0m\u001b[0;34m\u001b[0m\u001b[0;34m\u001b[0m\u001b[0m\n\u001b[0;32m---> 10\u001b[0;31m \u001b[0msvm_kbest\u001b[0m\u001b[0;34m.\u001b[0m\u001b[0mfit\u001b[0m\u001b[0;34m(\u001b[0m\u001b[0mx_train_kbest\u001b[0m\u001b[0;34m,\u001b[0m \u001b[0my_train\u001b[0m\u001b[0;34m)\u001b[0m\u001b[0;34m\u001b[0m\u001b[0;34m\u001b[0m\u001b[0m\n\u001b[0m\u001b[1;32m     11\u001b[0m \u001b[0my_pred_svm_kbest\u001b[0m \u001b[0;34m=\u001b[0m \u001b[0msvm_kbest\u001b[0m\u001b[0;34m.\u001b[0m\u001b[0mpredict\u001b[0m\u001b[0;34m(\u001b[0m\u001b[0mx_test_kbest\u001b[0m\u001b[0;34m)\u001b[0m\u001b[0;34m\u001b[0m\u001b[0;34m\u001b[0m\u001b[0m\n\u001b[1;32m     12\u001b[0m \u001b[0;34m\u001b[0m\u001b[0m\n",
            "\u001b[0;31mNameError\u001b[0m: name 'x_train_kbest' is not defined"
          ]
        }
      ]
    },
    {
      "cell_type": "code",
      "source": [
        "# Save model\n",
        "with open(\"Finalized_FlightPrice_SVM_SelectKBest_Classifier.pkl\", \"wb\") as f:pickle.dump(svm_kbest.best_estimator_, f)\n",
        "print(\"SVM (SelectKBest) Classifier saved as Finalized_FlightPrice_SVM_SelectKBest_Classifier.pkl\")"
      ],
      "metadata": {
        "id": "Rc4vpKYTWPd9"
      },
      "execution_count": null,
      "outputs": []
    },
    {
      "cell_type": "code",
      "source": [
        "# 2. SVM with RFE Features\n",
        "# ==============================================\n",
        "svm_rfe = GridSearchCV(SVC(),\n",
        "                       svm_params,\n",
        "                       cv=3,\n",
        "                       scoring='accuracy',\n",
        "                       n_jobs=-1,\n",
        "                       verbose=1)\n",
        "svm_rfe.fit(x_train_rfe, y_train)\n",
        "y_pred_svm_rfe = svm_rfe.predict(x_test_rfe)"
      ],
      "metadata": {
        "id": "Is-q5222WPar"
      },
      "execution_count": null,
      "outputs": []
    },
    {
      "cell_type": "code",
      "source": [
        "print(\"\\n SVM Classifier (RFE) Results\")\n",
        "print(\"Best Params:\", svm_rfe.best_params_)\n",
        "print(\"Accuracy:\", accuracy_score(y_test, y_pred_svm_rfe))\n",
        "print(\"F1 Score:\", f1_score(y_test, y_pred_svm_rfe, average='macro'))\n",
        "print(\"Confusion Matrix:\\n\", confusion_matrix(y_test, y_pred_svm_rfe))\n",
        "\n",
        "# Save model\n",
        "with open(\"Finalized_FlightPrice_SVM_RFE_Classifier.pkl\", \"wb\") as f:pickle.dump(svm_rfe.best_estimator_, f)\n",
        "print(\" SVM (RFE) Classifier saved as Finalized_FlightPrice_SVM_RFE_Classifier.pkl\")"
      ],
      "metadata": {
        "id": "0NnC_7alWPXJ"
      },
      "execution_count": null,
      "outputs": []
    },
    {
      "cell_type": "code",
      "source": [],
      "metadata": {
        "id": "YUVjnP9wWPUp"
      },
      "execution_count": null,
      "outputs": []
    },
    {
      "cell_type": "code",
      "source": [],
      "metadata": {
        "id": "YGTh7ukFWPSW"
      },
      "execution_count": null,
      "outputs": []
    },
    {
      "cell_type": "code",
      "source": [],
      "metadata": {
        "id": "rowWFlPzWPPw"
      },
      "execution_count": null,
      "outputs": []
    }
  ]
}